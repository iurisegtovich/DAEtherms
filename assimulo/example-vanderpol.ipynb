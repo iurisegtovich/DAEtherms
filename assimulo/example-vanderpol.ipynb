{
 "cells": [
  {
   "cell_type": "code",
   "execution_count": 9,
   "metadata": {
    "collapsed": false
   },
   "outputs": [
    {
     "name": "stdout",
     "output_type": "stream",
     "text": [
      "Final Run Statistics: Van der Pol (implicit) with time events \n",
      "\n",
      " Number of steps                                 : 1119\n",
      " Number of function evaluations                  : 9387\n",
      " Number of Jacobian evaluations                  : 800\n",
      " Number of function eval. due to Jacobian eval.  : 1600\n",
      " Number of error test failures                   : 46\n",
      " Number of LU decompositions                     : 1021\n",
      " Number of time events                           : 4\n",
      "\n",
      "Solver options:\n",
      "\n",
      " Solver                  : Radau5 (implicit)\n",
      " Tolerances (absolute)   : 1e-06\n",
      " Tolerances (relative)   : 1e-06\n",
      "\n",
      "Simulation interval    : 0.0 - 8.0 seconds.\n",
      "Elapsed simulation time: 0.22386099999999942 seconds.\n"
     ]
    },
    {
     "data": {
      "image/png": "[encoded data removed]",
      "text/plain": [
       "<Figure size 432x288 with 1 Axes>"
      ]
     },
     "metadata": {},
     "output_type": "display_data"
    }
   ],
   "source": [
    "#!/usr/bin/env python \n",
    "# -*- coding: utf-8 -*-\n",
    "\n",
    "# Copyright (C) 2010 Modelon AB\n",
    "#\n",
    "# This program is free software: you can redistribute it and/or modify\n",
    "# it under the terms of the GNU Lesser General Public License as published by\n",
    "# the Free Software Foundation, version 3 of the License.\n",
    "#\n",
    "# This program is distributed in the hope that it will be useful,\n",
    "# but WITHOUT ANY WARRANTY; without even the implied warranty of\n",
    "# MERCHANTABILITY or FITNESS FOR A PARTICULAR PURPOSE. See the\n",
    "# GNU Lesser General Public License for more details.\n",
    "#\n",
    "# You should have received a copy of the GNU Lesser General Public License\n",
    "# along with this program. If not, see <http://www.gnu.org/licenses/>.\n",
    "\n",
    "import numpy as N\n",
    "import pylab as P\n",
    "import nose\n",
    "from assimulo.solvers import Radau5DAE\n",
    "from assimulo.problem import Implicit_Problem\n",
    "\n",
    "\n",
    "class VanDerPolProblem(Implicit_Problem):\n",
    "    def __init__(self, **kargs):\n",
    "        Implicit_Problem.__init__(self, **kargs)\n",
    "        self.name = 'Van der Pol (implicit) with time events'\n",
    "        self.my = 1.0/1e-6\n",
    "        \n",
    "    #Define the residual\n",
    "    def res(self, t,y,yd):\n",
    "        yd_0 = y[1]\n",
    "        yd_1 = self.my*((1.-y[0]**2)*y[1]-y[0])\n",
    "        \n",
    "        res_0 = yd[0]-yd_0\n",
    "        res_1 = yd[1]-yd_1\n",
    "        return N.array([res_0,res_1])\n",
    "    \n",
    "    def time_events(self, t,y,yd,sw):\n",
    "        events = [1.0, 2.0, 2.5, 3.0]\n",
    "        for ev in events:\n",
    "            if t < ev:\n",
    "                tnext = ev\n",
    "                break\n",
    "            else:\n",
    "                tnext = None\n",
    "        return tnext\n",
    "        \n",
    "    def handle_event(self, solver, event_info):\n",
    "        self.my *= 1e-1\n",
    "\n",
    "def run_example(with_plots=True):\n",
    "    \n",
    "    y0 = [2.0,-0.6] #Initial conditions\n",
    "    yd0 = [-.6,-200000.]\n",
    "    \n",
    "    #Define an extended Assimulo problem\n",
    "    imp_mod = VanDerPolProblem(y0=y0,yd0=yd0)\n",
    "\n",
    "    #Define an explicit solver\n",
    "    imp_sim = Radau5DAE(imp_mod) #Create a Radau5 solver\n",
    "\n",
    "    #Simulate\n",
    "    t, y, yd = imp_sim.simulate(8.) #Simulate 8 seconds\n",
    "    \n",
    "    #Plot\n",
    "    if with_plots:\n",
    "        P.plot(t,y[:,0], marker='o')\n",
    "        P.xlabel('Time')\n",
    "        P.ylabel('State')\n",
    "        P.title(imp_mod.name)\n",
    "        P.show()\n",
    "    \n",
    "    #Basic test\n",
    "    x1 = y[:,0]\n",
    "    assert N.abs(x1[-1]-1.14330840983) < 1e-3 #For test purpose\n",
    "    return imp_mod, imp_sim\n",
    "\n",
    "if __name__=='__main__':\n",
    "    mod,sim = run_example()\n"
   ]
  },
  {
   "cell_type": "code",
   "execution_count": null,
   "metadata": {
    "collapsed": true
   },
   "outputs": [],
   "source": []
  }
 ],
 "metadata": {
  "kernelspec": {
   "display_name": "Python [default]",
   "language": "python",
   "name": "python3"
  },
  "language_info": {
   "codemirror_mode": {
    "name": "ipython",
    "version": 3
   },
   "file_extension": ".py",
   "mimetype": "text/x-python",
   "name": "python",
   "nbconvert_exporter": "python",
   "pygments_lexer": "ipython3",
   "version": "3.6.3"
  }
 },
 "nbformat": 4,
 "nbformat_minor": 2
}
