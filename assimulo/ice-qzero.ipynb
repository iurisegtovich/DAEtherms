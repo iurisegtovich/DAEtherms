{
 "cells": [
  {
   "cell_type": "code",
   "execution_count": 1,
   "metadata": {
    "collapsed": true
   },
   "outputs": [],
   "source": [
    "#https://pypi.python.org/pypi/Assimulo\n",
    "#http://www.jmodelica.org/assimulo_home/tutorial_imp.html\n",
    "#https://anaconda.org/search?q=assimulo"
   ]
  },
  {
   "cell_type": "code",
   "execution_count": 2,
   "metadata": {
    "collapsed": false
   },
   "outputs": [],
   "source": [
    "#conda install -c conda-forge assimulo"
   ]
  },
  {
   "cell_type": "code",
   "execution_count": 24,
   "metadata": {
    "collapsed": false
   },
   "outputs": [
    {
     "name": "stdout",
     "output_type": "stream",
     "text": [
      "Final Run Statistics: test3-icenonegative-noQ \n",
      "\n",
      " Number of steps                                 : 97\n",
      " Number of function evaluations                  : 115\n",
      " Number of Jacobian evaluations                  : 17\n",
      " Number of function eval. due to Jacobian eval.  : 153\n",
      " Number of error test failures                   : 2\n",
      " Number of nonlinear iterations                  : 115\n",
      " Number of nonlinear convergence failures        : 0\n",
      "\n",
      "Solver options:\n",
      "\n",
      " Solver                       : IDA (BDF)\n",
      " Maximal order                : 5\n",
      " Suppressed algebr. variables : False\n",
      " Tolerances (absolute)        : 1e-06\n",
      " Tolerances (relative)        : 1e-06\n",
      "\n",
      "Simulation interval    : 0.0 - 3.0 seconds.\n",
      "Elapsed simulation time: 0.009471999999998815 seconds.\n"
     ]
    }
   ],
   "source": [
    "import numpy as np\n",
    "\n",
    "def residual(t,y,yd):\n",
    "    #Tvar, Pconst\n",
    "    #i:   0     1\n",
    "    #y:  nL,   nI, \n",
    "    #yd: dnL, dnI,\n",
    "            #dnL=-dnI=dnI->L\n",
    "    res_0 = (yd[0])-(-yd[1])                 #BALMASS\n",
    "            #dnI->L=k*(Tsis-Teq)\n",
    "    if (y[1]>0. and y[0]>0.):\n",
    "\n",
    "        res_1 = (yd[0])-(1.-np.exp(-1.*t/1e0))*(1e-2*(y[8]-273.))  #MODELO DE TRANSFASE\n",
    "    else:\n",
    "        res_1 = (yd[0])-(0.)\n",
    "    pass\n",
    "            #barHL=CpL(Tsis-Tref)\n",
    "    res_2 = (y[2]) - ( 1.*(y[8]-273.15) )     #PROP ENERGIA-T\n",
    "            #barHI=CpI(Tsis-Tref)\n",
    "    res_3 = (y[3]) - ( .5*(y[8]-273.15)-500. )     #PROP ENERGIA-T\n",
    "            #HL=nLbarHL\n",
    "    res_4 = (y[4])-(y[0]*y[2])     #PROP\n",
    "            #HI=nIbarHI\n",
    "    res_5 = (y[5])-(y[1]*y[3])     #PROP\n",
    "            #Hsis=HL+HI\n",
    "    res_6 = (y[6])-(y[4]+y[5])     #BALENERGIA\n",
    "            #dHsis=q => (dH=dU+PdV, dU = q+w, w=PdV :. dH=q)\n",
    "    res_7 = (yd[6])-(y[7])         #MODELO DE TRANSCAL1/2\n",
    "            #q=k(Tsis-Tbath) .OR. q=0\n",
    "    res_8 =  (y[7])-(0.) #isolation\n",
    "    \n",
    "    return np.array([res_0,res_1,res_2,res_3,res_4,res_5,res_6,res_7,res_8])\n",
    "# The initial conditions to the residual need also to be specified:\n",
    "\n",
    "#The initial conditions\n",
    "\n",
    "t0  = 0.0 #Initial time\n",
    "y0  = [1.0, #nL\n",
    "       .5, #nI\n",
    "       1.*(298.-273.15), #hL\n",
    "       .5*(298.-273.15)-500., #hI\n",
    "       1.*1.*(298.-273.15), #HL\n",
    "       .5*(.5*(298.-273.15)-500.), #HI\n",
    "       1.*1.*(298.-273.15) + .5*(.5*(298.-273.15)-500.), #Hsis\n",
    "       0, #q\n",
    "       298] #T #Initial states\n",
    "yd0 = [0., #dnL\n",
    "       0., #dnI\n",
    "       0., #dhl ~\n",
    "       0., #dhI ~\n",
    "       0., #dHL ~\n",
    "       0., #dHI ~\n",
    "       0., #dHsis\n",
    "       0.,   #dq\n",
    "       0. #dT\n",
    "       ] #Initial state derivatives\n",
    "\n",
    "# All this is packed into an Assimulo problem class:\n",
    "\n",
    "from assimulo.problem import Implicit_Problem #Imports the problem formulation from Assimulo\n",
    "\n",
    "model = Implicit_Problem(residual, y0, yd0, t0) #Create an Assimulo problem\n",
    "model.name = 'test3-icenonegative-noQ'        #Specifies the name of problem (optional)\n",
    "# Creating an Assimulo solver instance\n",
    "# And now to create the actual solver object for SUNDIAL’s IDA:\n",
    "\n",
    "from assimulo.solvers import IDA #Imports the solver IDA from Assimulo\n",
    "\n",
    "sim = IDA(model)\n",
    "# Simulate\n",
    "# To simulate the problem using the default values, simply specify the final time of the simulation and the number of communication points and simulate which returns the result:\n",
    "\n",
    "tfinal = 3.0        #Specify the final time\n",
    "ncp = 500            #Number of communication points (number of return points)\n",
    "\n",
    "t, y, yd = sim.simulate(tfinal, ncp) #Use the .simulate method to simulate and provide the final time and ncp (optional)\n",
    "# This will give all sorts of information in the prompt, the statistics of the solver, how many function calls were needed, among others. Also information about the solver, which options the problem was solved with.\n",
    "\n",
    "# To plot the simulation result, plot functionality from pylab can be used:\n",
    "\n",
    "#Plot the result\n",
    "#sim.plot()"
   ]
  },
  {
   "cell_type": "code",
   "execution_count": 25,
   "metadata": {
    "collapsed": false
   },
   "outputs": [
    {
     "name": "stdout",
     "output_type": "stream",
     "text": [
      "{'nL': 0, 'nI': 1, 'hL': 2, 'hI': 3, 'HL': 4, 'HI': 5, 'Hsis': 6, 'q': 7, 'T': 8}\n"
     ]
    }
   ],
   "source": [
    "import matplotlib as mpl\n",
    "from matplotlib import pyplot as plt\n",
    "%matplotlib inline\n",
    "\n",
    "nsis=9\n",
    "labels=\"nL,nI,hL,hI,HL,HI,Hsis,q,T\".replace(\" \",\"\").split(\",\")\n",
    "labesd=dict(zip(labels,range(nsis)))\n",
    "\n",
    "print(labesd)\n",
    "def ids(words):\n",
    "    idi=[]\n",
    "    for word in words.replace(\" \",\"\").split(\",\"):\n",
    "        idi+=[labesd[word]]\n",
    "    return idi"
   ]
  },
  {
   "cell_type": "code",
   "execution_count": 26,
   "metadata": {
    "collapsed": false
   },
   "outputs": [
    {
     "data": {
      "image/png": "[encoded data removed]",
      "text/plain": [
       "<Figure size 360x360 with 1 Axes>"
      ]
     },
     "metadata": {},
     "output_type": "display_data"
    }
   ],
   "source": [
    "fig=plt.figure(figsize=(5,5))\n",
    "ax=fig.add_subplot(111)\n",
    "for k in ids(\"nL,nI\"):\n",
    "    yaxis=(sim.y_sol[i][k] for i in range(len(sim.y_sol)))\n",
    "    ax.plot(sim.t_sol,np.fromiter(yaxis,dtype=np.float),label=labels[k])\n",
    "ax.legend(loc=0)\n",
    "ax.set_ylim(0.,1.5)\n",
    "fig.canvas.draw()"
   ]
  },
  {
   "cell_type": "code",
   "execution_count": 27,
   "metadata": {
    "collapsed": false,
    "scrolled": true
   },
   "outputs": [
    {
     "data": {
      "image/png": "[encoded data removed]",
      "text/plain": [
       "<Figure size 360x360 with 1 Axes>"
      ]
     },
     "metadata": {},
     "output_type": "display_data"
    }
   ],
   "source": [
    "fig=plt.figure(figsize=(5,5))\n",
    "ax=fig.add_subplot(111)\n",
    "for k in ids(\"hL,hI,T\"):\n",
    "    yaxis=(sim.y_sol[i][k] for i in range(len(sim.y_sol)))\n",
    "    ax.plot(sim.t_sol,np.fromiter(yaxis,dtype=np.float),label=labels[k])\n",
    "ax.legend(loc=0)\n",
    "fig.canvas.draw()"
   ]
  },
  {
   "cell_type": "code",
   "execution_count": 28,
   "metadata": {
    "collapsed": false
   },
   "outputs": [
    {
     "data": {
      "image/png": "[encoded data removed]",
      "text/plain": [
       "<Figure size 360x360 with 1 Axes>"
      ]
     },
     "metadata": {},
     "output_type": "display_data"
    }
   ],
   "source": [
    "fig=plt.figure(figsize=(5,5))\n",
    "ax=fig.add_subplot(111)\n",
    "for k in ids(\"HL,HI,Hsis,q\"):\n",
    "    yaxis=(sim.y_sol[i][k] for i in range(len(sim.y_sol)))\n",
    "    ax.plot(sim.t_sol,np.fromiter(yaxis,dtype=np.float),label=labels[k])\n",
    "ax.legend(loc=0)\n",
    "fig.canvas.draw()"
   ]
  },
  {
   "cell_type": "code",
   "execution_count": 29,
   "metadata": {
    "collapsed": false
   },
   "outputs": [
    {
     "data": {
      "image/png": "[encoded data removed]",
      "text/plain": [
       "<Figure size 360x360 with 1 Axes>"
      ]
     },
     "metadata": {},
     "output_type": "display_data"
    }
   ],
   "source": [
    "fig=plt.figure(figsize=(5,5))\n",
    "ax=fig.add_subplot(111)\n",
    "for k in ids(\"T\"):\n",
    "    yaxis=(sim.y_sol[i][k] for i in range(len(sim.y_sol)))\n",
    "    ax.plot(sim.t_sol,np.fromiter(yaxis,dtype=np.float),label=labels[k])\n",
    "ax.legend(loc=0)\n",
    "ax.set_ylim(273.,298)\n",
    "fig.canvas.draw()"
   ]
  },
  {
   "cell_type": "code",
   "execution_count": 30,
   "metadata": {
    "collapsed": true
   },
   "outputs": [],
   "source": [
    "#o sistema inicia acima de 273K\n",
    "#tem um pouco de gelo quente\n",
    "#o gelo vai derretendo e vai \"consumindo calor\" i.e. diminuindo a temperatura do sistema e transformando em energia interna da fase água\n",
    "#não havendo fornecimento de calor de fora\n",
    "#eventualmente a temperatura alcança 273K e o derretimento cessa"
   ]
  },
  {
   "cell_type": "code",
   "execution_count": null,
   "metadata": {
    "collapsed": true
   },
   "outputs": [],
   "source": []
  }
 ],
 "metadata": {
  "kernelspec": {
   "display_name": "Python [default]",
   "language": "python",
   "name": "python3"
  },
  "language_info": {
   "codemirror_mode": {
    "name": "ipython",
    "version": 3
   },
   "file_extension": ".py",
   "mimetype": "text/x-python",
   "name": "python",
   "nbconvert_exporter": "python",
   "pygments_lexer": "ipython3",
   "version": "3.6.3"
  }
 },
 "nbformat": 4,
 "nbformat_minor": 2
}
