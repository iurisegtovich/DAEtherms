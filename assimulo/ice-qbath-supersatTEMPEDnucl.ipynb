{
 "cells": [
  {
   "cell_type": "code",
   "execution_count": 1,
   "metadata": {
    "collapsed": true
   },
   "outputs": [],
   "source": [
    "#https://pypi.python.org/pypi/Assimulo\n",
    "#http://www.jmodelica.org/assimulo_home/tutorial_imp.html\n",
    "#https://anaconda.org/search?q=assimulo"
   ]
  },
  {
   "cell_type": "code",
   "execution_count": 2,
   "metadata": {
    "collapsed": false
   },
   "outputs": [],
   "source": [
    "#conda install -c conda-forge assimulo"
   ]
  },
  {
   "cell_type": "code",
   "execution_count": 49,
   "metadata": {
    "collapsed": true
   },
   "outputs": [],
   "source": [
    "#http://www.jmodelica.org/assimulo_home/examples.html#\n",
    "#http://www.jmodelica.org/assimulo_home/_modules/assimulo/examples/radau5dae_time_events.html#run_example"
   ]
  },
  {
   "cell_type": "code",
   "execution_count": 16,
   "metadata": {
    "collapsed": false
   },
   "outputs": [
    {
     "name": "stdout",
     "output_type": "stream",
     "text": [
      "Final Run Statistics: supersatICE \n",
      "\n",
      " Number of steps                                 : 400\n",
      " Number of function evaluations                  : 625\n",
      " Number of Jacobian evaluations                  : 131\n",
      " Number of function eval. due to Jacobian eval.  : 1179\n",
      " Number of error test failures                   : 23\n",
      " Number of nonlinear iterations                  : 625\n",
      " Number of nonlinear convergence failures        : 16\n",
      " Number of state function evaluations            : 414\n",
      " Number of state events                          : 2\n",
      "\n",
      "Solver options:\n",
      "\n",
      " Solver                       : IDA (BDF)\n",
      " Maximal order                : 5\n",
      " Suppressed algebr. variables : False\n",
      " Tolerances (absolute)        : 1e-06\n",
      " Tolerances (relative)        : 1e-06\n",
      "\n",
      "Simulation interval    : 0.0 - 20.0 seconds.\n",
      "Elapsed simulation time: 0.05185299999999948 seconds.\n"
     ]
    },
    {
     "data": {
      "image/png": "[encoded data removed]",
      "text/plain": [
       "<Figure size 432x288 with 1 Axes>"
      ]
     },
     "metadata": {},
     "output_type": "display_data"
    }
   ],
   "source": [
    "#CVode and IDA can use Assimulos method through the option ”external_event_detection”\n",
    "\n",
    "import numpy as np\n",
    "\n",
    "import numpy as N\n",
    "import pylab as P\n",
    "from assimulo.solvers import Radau5DAE, IDA\n",
    "from assimulo.problem import Implicit_Problem\n",
    "\n",
    "class supersatICEPolProblem(Implicit_Problem):\n",
    "    def __init__(self, **kargs):\n",
    "        Implicit_Problem.__init__(self, **kargs)\n",
    "        self.name = 'supersatICE'\n",
    "        self.my = 0.\n",
    "        \n",
    "    #Define the residual\n",
    "    def res(self,t,y,yd):\n",
    "        #Tvar, Pconst\n",
    "        #i:   0     1\n",
    "        #y:  nL,   nI, \n",
    "        #yd: dnL, dnI,\n",
    "                #dnL=-dnI=dnI->L\n",
    "        res_0 = (yd[0])-(-yd[1])                 #BALMASS\n",
    "                #dnI->L=k*(Tsis-Teq)\n",
    "\n",
    "        if (y[1]>=-.01 and y[0]>=-.01):\n",
    "            res_1 = (yd[0])-(1.-np.exp(-1.*t/1e0))*self.my*(1e-1*(y[8]-273.))  #MODELO DE TRANSFASE\n",
    "        else:\n",
    "            res_1 = (yd[0])-(0.)\n",
    "        pass\n",
    "                #barHL=CpL(Tsis-Tref)\n",
    "        res_2 = (y[2]) - ( 1.*(y[8]-273.15) )     #PROP ENERGIA-T\n",
    "                #barHI=CpI(Tsis-Tref)\n",
    "        res_3 = (y[3]) - ( 10.*(y[8]-273.15)-500. )     #PROP ENERGIA-T\n",
    "                #HL=nLbarHL\n",
    "        res_4 = (y[4])-(y[0]*y[2])     #PROP\n",
    "                #HI=nIbarHI\n",
    "        res_5 = (y[5])-(y[1]*y[3])     #PROP\n",
    "                #Hsis=HL+HI\n",
    "        res_6 = (y[6])-(y[4]+y[5])     #BALENERGIA\n",
    "                #dHsis=q => (dH=dU+PdV, dU = q+w, w=PdV :. dH=q)\n",
    "        res_7 = (yd[6])-(y[7])         #MODELO DE TRANSCAL1/2\n",
    "                #q=k(Tsis-Tbath) .OR. q=0\n",
    "        #res_8 =  (y[7])-(0.) #isolation\n",
    "        res_8 =  (y[7])-(1.-np.exp(-1.*t))*(1e0*(-y[8]+230.)) #MODELO DE TRANSCAL2/2\n",
    "        return np.array([res_0,res_1,res_2,res_3,res_4,res_5,res_6,res_7,res_8])\n",
    "    \n",
    "    def time_events(self, t,y,yd,sw):\n",
    "        tnext = None\n",
    "#         events = [5.0]\n",
    "#         for ev in events:\n",
    "#             if t < ev:\n",
    "#                 tnext = ev\n",
    "#                 break\n",
    "#             else:\n",
    "#                 tnext = None\n",
    "        return tnext\n",
    "        \n",
    "    def state_events(self, t, y, yd, sw):\n",
    "        \"\"\"\n",
    "        This is the function that keeps track of  events. When the sign\n",
    "        of any of the functions changed, we have an event.\n",
    "        \"\"\"\n",
    "        event_0 = y[8]-250.\n",
    "\n",
    "        return np.array([event_0])\n",
    "    \n",
    "    def handle_event(self, solver, event_info):\n",
    "        \"\"\"\n",
    "        Event handling. This functions is called when Assimulo finds an event as\n",
    "        specified by the event functions.\n",
    "        \"\"\"\n",
    "        state_info = event_info[0] #We are only interested in state events\n",
    "\n",
    "        if state_info[0] != 0: #Check if the first event function has been triggered\n",
    "            self.my = 1. #turn growth on\n",
    "\n",
    "            #solver.sw[0] = not solver.sw[0] #Change event function OR NOT\n",
    "\n",
    "def run_example(with_plots=True):\n",
    "    \n",
    "    y0  = [1.0, #nL\n",
    "           0., #nI\n",
    "           1.*(298.-273.15), #hL\n",
    "           10.*(298.-273.15)-500., #hI\n",
    "           1.*1.*(298.-273.15), #HL\n",
    "           0.*(10.*(298.-273.15)-500.), #HI\n",
    "           1.*1.*(298.-273.15) + 0.*(10.*(298.-273.15)-500.), #Hsis\n",
    "           0, #q\n",
    "           298, #T\n",
    "          ] #Initial states\n",
    "    yd0 = [0., #dnL\n",
    "           0., #dnI\n",
    "           0., #dhl ~\n",
    "           0., #dhI ~\n",
    "           0., #dHL ~\n",
    "           0., #dHI ~\n",
    "           0., #dHsis\n",
    "           0.,   #dq\n",
    "           0., #dT\n",
    "          ] #Initial state derivatives\n",
    "    \n",
    "    #Define an extended Assimulo problem\n",
    "    imp_mod = supersatICEPolProblem(y0=y0,yd0=yd0)\n",
    "\n",
    "    #Define an explicit solver\n",
    "    imp_sim = IDA(imp_mod) #Create a Radau5 solver\n",
    "\n",
    "    #Simulate\n",
    "    t, y, yd = imp_sim.simulate(20.) #Simulate 8 seconds\n",
    "    \n",
    "    #Plot\n",
    "    if with_plots:\n",
    "        P.plot(t,y[:,0], marker='o')\n",
    "        P.xlabel('Time')\n",
    "        P.ylabel('State')\n",
    "        P.title(imp_mod.name)\n",
    "        P.show()\n",
    "    \n",
    "    #Basic test\n",
    "    x1 = y[:,0]\n",
    "    return imp_mod, imp_sim\n",
    "\n",
    "mod,sim = run_example()"
   ]
  },
  {
   "cell_type": "code",
   "execution_count": 17,
   "metadata": {
    "collapsed": false
   },
   "outputs": [
    {
     "name": "stdout",
     "output_type": "stream",
     "text": [
      "{'nL': 0, 'nI': 1, 'hL': 2, 'hI': 3, 'HL': 4, 'HI': 5, 'Hsis': 6, 'q': 7, 'T': 8}\n"
     ]
    }
   ],
   "source": [
    "import matplotlib as mpl\n",
    "from matplotlib import pyplot as plt\n",
    "%matplotlib inline\n",
    "\n",
    "nsis=9\n",
    "labels=\"nL,nI,hL,hI,HL,HI,Hsis,q,T\".replace(\" \",\"\").split(\",\")\n",
    "labesd=dict(zip(labels,range(nsis)))\n",
    "\n",
    "print(labesd)\n",
    "def ids(words):\n",
    "    idi=[]\n",
    "    for word in words.replace(\" \",\"\").split(\",\"):\n",
    "        idi+=[labesd[word]]\n",
    "    return idi"
   ]
  },
  {
   "cell_type": "code",
   "execution_count": 18,
   "metadata": {
    "collapsed": false
   },
   "outputs": [
    {
     "data": {
      "image/png": "[encoded data removed]",
      "text/plain": [
       "<Figure size 360x360 with 1 Axes>"
      ]
     },
     "metadata": {},
     "output_type": "display_data"
    }
   ],
   "source": [
    "fig=plt.figure(figsize=(5,5))\n",
    "ax=fig.add_subplot(111)\n",
    "for k in ids(\"nL,nI\"):\n",
    "    yaxis=(sim.y_sol[i][k] for i in range(len(sim.y_sol)))\n",
    "    ax.plot(sim.t_sol,np.fromiter(yaxis,dtype=np.float),label=labels[k])\n",
    "ax.legend(loc=0)\n",
    "fig.canvas.draw()"
   ]
  },
  {
   "cell_type": "code",
   "execution_count": 92,
   "metadata": {
    "collapsed": false,
    "scrolled": true
   },
   "outputs": [
    {
     "data": {
      "image/png": "[encoded data removed]",
      "text/plain": [
       "<Figure size 360x360 with 1 Axes>"
      ]
     },
     "metadata": {},
     "output_type": "display_data"
    }
   ],
   "source": [
    "fig=plt.figure(figsize=(5,5))\n",
    "ax=fig.add_subplot(111)\n",
    "for k in ids(\"hL,hI,T\"):\n",
    "    yaxis=(sim.y_sol[i][k] for i in range(len(sim.y_sol)))\n",
    "    ax.plot(sim.t_sol,np.fromiter(yaxis,dtype=np.float),label=labels[k])\n",
    "ax.legend(loc=0)\n",
    "fig.canvas.draw()"
   ]
  },
  {
   "cell_type": "code",
   "execution_count": 93,
   "metadata": {
    "collapsed": false
   },
   "outputs": [
    {
     "data": {
      "image/png": "[encoded data removed]",
      "text/plain": [
       "<Figure size 360x360 with 1 Axes>"
      ]
     },
     "metadata": {},
     "output_type": "display_data"
    }
   ],
   "source": [
    "fig=plt.figure(figsize=(5,5))\n",
    "ax=fig.add_subplot(111)\n",
    "for k in ids(\"HL,HI,Hsis,q\"):\n",
    "    yaxis=(sim.y_sol[i][k] for i in range(len(sim.y_sol)))\n",
    "    ax.plot(sim.t_sol,np.fromiter(yaxis,dtype=np.float),label=labels[k])\n",
    "ax.legend(loc=0)\n",
    "fig.canvas.draw()"
   ]
  },
  {
   "cell_type": "code",
   "execution_count": 19,
   "metadata": {
    "collapsed": false
   },
   "outputs": [
    {
     "data": {
      "image/png": "[encoded data removed]",
      "text/plain": [
       "<Figure size 360x360 with 1 Axes>"
      ]
     },
     "metadata": {},
     "output_type": "display_data"
    }
   ],
   "source": [
    "fig=plt.figure(figsize=(5,5))\n",
    "ax=fig.add_subplot(111)\n",
    "for k in ids(\"T\"):\n",
    "    yaxis=(sim.y_sol[i][k] for i in range(len(sim.y_sol)))\n",
    "    ax.plot(sim.t_sol,np.fromiter(yaxis,dtype=np.float),label=labels[k])\n",
    "ax.legend(loc=0)\n",
    "fig.canvas.draw()"
   ]
  },
  {
   "cell_type": "code",
   "execution_count": null,
   "metadata": {
    "collapsed": true
   },
   "outputs": [],
   "source": []
  },
  {
   "cell_type": "code",
   "execution_count": null,
   "metadata": {
    "collapsed": true
   },
   "outputs": [],
   "source": []
  },
  {
   "cell_type": "code",
   "execution_count": null,
   "metadata": {
    "collapsed": true
   },
   "outputs": [],
   "source": []
  }
 ],
 "metadata": {
  "kernelspec": {
   "display_name": "Python [default]",
   "language": "python",
   "name": "python3"
  },
  "language_info": {
   "codemirror_mode": {
    "name": "ipython",
    "version": 3
   },
   "file_extension": ".py",
   "mimetype": "text/x-python",
   "name": "python",
   "nbconvert_exporter": "python",
   "pygments_lexer": "ipython3",
   "version": "3.6.3"
  }
 },
 "nbformat": 4,
 "nbformat_minor": 2
}
